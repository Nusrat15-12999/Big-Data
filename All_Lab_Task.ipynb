{
 "cells": [
  {
   "cell_type": "code",
   "execution_count": 17,
   "id": "79007df1",
   "metadata": {},
   "outputs": [],
   "source": [
    "import findspark\n",
    "findspark.init()\n",
    "import pyspark\n"
   ]
  },
  {
   "cell_type": "code",
   "execution_count": 18,
   "id": "fa25e375",
   "metadata": {},
   "outputs": [],
   "source": [
    "from pyspark.sql import SparkSession\n",
    "spark=SparkSession.builder.appName(\"Lab-3\").getOrCreate()"
   ]
  },
  {
   "cell_type": "markdown",
   "id": "be9cc7cf",
   "metadata": {},
   "source": [
    "# Lab task-1"
   ]
  },
  {
   "cell_type": "code",
   "execution_count": 19,
   "id": "9d255755",
   "metadata": {},
   "outputs": [
    {
     "data": {
      "text/plain": [
       "[[0], [9], [18, 27], [36], [45], [54, 63], [72], [81], [90, 99]]"
      ]
     },
     "execution_count": 19,
     "metadata": {},
     "output_type": "execute_result"
    }
   ],
   "source": [
    "import numpy as np\n",
    "\n",
    "rdd=spark.sparkContext.parallelize(np.arange(0,100,9),9)\n",
    "\n",
    "rdd.glom().collect()"
   ]
  },
  {
   "cell_type": "markdown",
   "id": "6e53af38",
   "metadata": {},
   "source": [
    "# Lab task-2\n"
   ]
  },
  {
   "cell_type": "code",
   "execution_count": 22,
   "id": "e0a1e983",
   "metadata": {},
   "outputs": [
    {
     "data": {
      "text/plain": [
       "50005000"
      ]
     },
     "execution_count": 22,
     "metadata": {},
     "output_type": "execute_result"
    }
   ],
   "source": [
    "RDD=spark.sparkContext.parallelize(range(1,10001))\n",
    "RDD.sum()"
   ]
  },
  {
   "cell_type": "code",
   "execution_count": null,
   "id": "8b4d531f",
   "metadata": {},
   "outputs": [],
   "source": []
  },
  {
   "cell_type": "code",
   "execution_count": null,
   "id": "0bf7c0d9",
   "metadata": {},
   "outputs": [],
   "source": []
  }
 ],
 "metadata": {
  "kernelspec": {
   "display_name": "Python 3 (ipykernel)",
   "language": "python",
   "name": "python3"
  },
  "language_info": {
   "codemirror_mode": {
    "name": "ipython",
    "version": 3
   },
   "file_extension": ".py",
   "mimetype": "text/x-python",
   "name": "python",
   "nbconvert_exporter": "python",
   "pygments_lexer": "ipython3",
   "version": "3.9.7"
  }
 },
 "nbformat": 4,
 "nbformat_minor": 5
}
