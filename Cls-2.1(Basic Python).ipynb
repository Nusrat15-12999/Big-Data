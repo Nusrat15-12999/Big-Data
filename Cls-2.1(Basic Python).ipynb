{
 "cells": [
  {
   "cell_type": "markdown",
   "id": "9ad80166",
   "metadata": {},
   "source": [
    "# Python"
   ]
  },
  {
   "cell_type": "code",
   "execution_count": null,
   "id": "9b85f412",
   "metadata": {},
   "outputs": [],
   "source": [
    "print(\"Welcome to Lab-2\")"
   ]
  },
  {
   "cell_type": "code",
   "execution_count": 5,
   "id": "7ab84633",
   "metadata": {},
   "outputs": [
    {
     "name": "stdout",
     "output_type": "stream",
     "text": [
      "Above 10\n"
     ]
    }
   ],
   "source": [
    "###conditional statement\n",
    "\n",
    "n=15\n",
    "if n==9:\n",
    "    print(n)\n",
    "elif n>=10:\n",
    "    print(\"Above 10\")\n",
    "else:\n",
    "    print(\"False\")"
   ]
  },
  {
   "cell_type": "code",
   "execution_count": 8,
   "id": "cf962694",
   "metadata": {},
   "outputs": [
    {
     "name": "stdout",
     "output_type": "stream",
     "text": [
      "0\n",
      "1\n",
      "2\n",
      "3\n",
      "4\n",
      "5\n",
      "6\n",
      "7\n",
      "8\n",
      "9\n"
     ]
    }
   ],
   "source": [
    "###For Loop\n",
    "\n",
    "for x in range(10):\n",
    "    print(x)"
   ]
  },
  {
   "cell_type": "code",
   "execution_count": 22,
   "id": "102fac0f",
   "metadata": {},
   "outputs": [
    {
     "name": "stdout",
     "output_type": "stream",
     "text": [
      "7\n"
     ]
    }
   ],
   "source": [
    "for x in range(10):\n",
    "    if x==7:\n",
    "        print(x)\n",
    "    "
   ]
  },
  {
   "cell_type": "code",
   "execution_count": 32,
   "id": "1cfd805c",
   "metadata": {},
   "outputs": [
    {
     "data": {
      "text/plain": [
       "['Nusrat', 'Jahan', 'Marjana', 12999, 3.91, 'Big', 'Data', 'Theory', 'Lab']"
      ]
     },
     "execution_count": 32,
     "metadata": {},
     "output_type": "execute_result"
    }
   ],
   "source": [
    "###List\n",
    "\n",
    "list=[\"Nusrat\",\"Jahan\",\"Marjana\",12999,3.91,\"Big\",\"Data\",\"Theory\",\"Lab\"]\n",
    "list"
   ]
  },
  {
   "cell_type": "code",
   "execution_count": 57,
   "id": "dfcb046a",
   "metadata": {},
   "outputs": [
    {
     "name": "stdout",
     "output_type": "stream",
     "text": [
      "Nusrat\n",
      "Jahan\n",
      "Marjana\n",
      "12999\n",
      "3.91\n",
      "Big\n",
      "Data\n",
      "Theory\n",
      "Lab\n"
     ]
    }
   ],
   "source": [
    "for i in list:\n",
    "    print(i)"
   ]
  },
  {
   "cell_type": "code",
   "execution_count": 58,
   "id": "21be5ae4",
   "metadata": {},
   "outputs": [
    {
     "name": "stdout",
     "output_type": "stream",
     "text": [
      "12999\n"
     ]
    }
   ],
   "source": [
    "print(list[3])"
   ]
  },
  {
   "cell_type": "code",
   "execution_count": 59,
   "id": "495c6806",
   "metadata": {},
   "outputs": [
    {
     "name": "stdout",
     "output_type": "stream",
     "text": [
      "['Marjana', 12999, 3.91, 'Big', 'Data', 'Theory', 'Lab']\n"
     ]
    }
   ],
   "source": [
    "print(list[2:])"
   ]
  },
  {
   "cell_type": "code",
   "execution_count": 60,
   "id": "b4ebf40c",
   "metadata": {},
   "outputs": [
    {
     "name": "stdout",
     "output_type": "stream",
     "text": [
      "['Marjana', 12999, 3.91]\n"
     ]
    }
   ],
   "source": [
    "print(list[2:5])"
   ]
  },
  {
   "cell_type": "code",
   "execution_count": 61,
   "id": "4e2b943f",
   "metadata": {},
   "outputs": [
    {
     "name": "stdout",
     "output_type": "stream",
     "text": [
      "Lab\n"
     ]
    }
   ],
   "source": [
    "print(list[-1])"
   ]
  },
  {
   "cell_type": "code",
   "execution_count": 62,
   "id": "d918b1ec",
   "metadata": {},
   "outputs": [
    {
     "name": "stdout",
     "output_type": "stream",
     "text": [
      "['Big', 'Data', 'Theory']\n"
     ]
    }
   ],
   "source": [
    "print(list[-4:-1])"
   ]
  },
  {
   "cell_type": "code",
   "execution_count": 63,
   "id": "c1be6168",
   "metadata": {},
   "outputs": [
    {
     "data": {
      "text/plain": [
       "('Nusrat', 'Jahan', 'Marjana', 12999, 3.91, 'Big', 'Data', 'Theory', 'Lab')"
      ]
     },
     "execution_count": 63,
     "metadata": {},
     "output_type": "execute_result"
    }
   ],
   "source": [
    "###Tuple\n",
    "\n",
    "tuple=(\"Nusrat\",\"Jahan\",\"Marjana\",12999,3.91,\"Big\",\"Data\",\"Theory\",\"Lab\")\n",
    "tuple"
   ]
  },
  {
   "cell_type": "code",
   "execution_count": 64,
   "id": "0ca915a5",
   "metadata": {},
   "outputs": [
    {
     "data": {
      "text/plain": [
       "{'Name': 'Marjana', 'ID': 12999, 'Course': 'Big Data', 'Section': 'J+O'}"
      ]
     },
     "execution_count": 64,
     "metadata": {},
     "output_type": "execute_result"
    }
   ],
   "source": [
    "###Dictonary\n",
    "dic={\n",
    "    \"Name\":\"Nusrat\",              #dictonary don't allow duplicate values (See The updated name)\n",
    "    \"Name\":\"Marjana\", \n",
    "    \"ID\":12999,\n",
    "    \"Course\":\"Big Data\",\n",
    "    \"Section\":\"J+O\"\n",
    "}\n",
    "dic"
   ]
  },
  {
   "cell_type": "code",
   "execution_count": 65,
   "id": "ce0c4dde",
   "metadata": {},
   "outputs": [
    {
     "name": "stdout",
     "output_type": "stream",
     "text": [
      "Name\n",
      "ID\n",
      "Course\n",
      "Section\n"
     ]
    }
   ],
   "source": [
    "for x in dic:\n",
    "    print(x)"
   ]
  },
  {
   "cell_type": "code",
   "execution_count": 66,
   "id": "784bff0b",
   "metadata": {},
   "outputs": [
    {
     "name": "stdout",
     "output_type": "stream",
     "text": [
      "12999\n"
     ]
    }
   ],
   "source": [
    "print(dic[\"ID\"])"
   ]
  },
  {
   "cell_type": "code",
   "execution_count": 5,
   "id": "9b1006dd",
   "metadata": {},
   "outputs": [
    {
     "name": "stdout",
     "output_type": "stream",
     "text": [
      "Enter your name:Nusrat\n",
      "Hello Nusrat\n"
     ]
    }
   ],
   "source": [
    "###Function\n",
    "\n",
    "def Msg():\n",
    "    a=input(\"Enter your name:\")\n",
    "    print(\"Hello\",a)\n",
    "Msg()"
   ]
  },
  {
   "cell_type": "code",
   "execution_count": 8,
   "id": "d3dcb5f6",
   "metadata": {},
   "outputs": [
    {
     "name": "stdout",
     "output_type": "stream",
     "text": [
      "Enter first number:2\n",
      "Enter second number:3\n",
      "5\n"
     ]
    }
   ],
   "source": [
    "def add():\n",
    "    a=int(input(\"Enter first number:\"))\n",
    "    b=int(input(\"Enter second number:\"))\n",
    "    sum=a+b\n",
    "    print(sum)\n",
    "add()"
   ]
  },
  {
   "cell_type": "code",
   "execution_count": 11,
   "id": "e91e5995",
   "metadata": {},
   "outputs": [
    {
     "name": "stdout",
     "output_type": "stream",
     "text": [
      "5\n",
      "15\n",
      "25\n"
     ]
    }
   ],
   "source": [
    "def Sub(a,b):\n",
    "    sub=a-b\n",
    "    print(sub)\n",
    "Sub(10,5)\n",
    "Sub(20,5)\n",
    "Sub(30,5)"
   ]
  },
  {
   "cell_type": "code",
   "execution_count": 14,
   "id": "dba78f3c",
   "metadata": {},
   "outputs": [
    {
     "data": {
      "text/plain": [
       "['Nusrat', 'Jahan', 'Marjana', 'Big', 'Data', 'Theory', 'Lab']"
      ]
     },
     "execution_count": 14,
     "metadata": {},
     "output_type": "execute_result"
    }
   ],
   "source": [
    "###Sort\n",
    "\n",
    "a_list=[\"Nusrat\",\"Jahan\",\"Marjana\",\"Big\",\"Data\",\"Theory\",\"Lab\"]\n",
    "a_list"
   ]
  },
  {
   "cell_type": "code",
   "execution_count": 18,
   "id": "b4af8923",
   "metadata": {},
   "outputs": [
    {
     "data": {
      "text/plain": [
       "['Big', 'Data', 'Jahan', 'Lab', 'Marjana', 'Nusrat', 'Theory']"
      ]
     },
     "execution_count": 18,
     "metadata": {},
     "output_type": "execute_result"
    }
   ],
   "source": [
    "a_list.sort()\n",
    "a_list"
   ]
  },
  {
   "cell_type": "code",
   "execution_count": 17,
   "id": "e1fc2ac0",
   "metadata": {},
   "outputs": [
    {
     "data": {
      "text/plain": [
       "['Theory', 'Nusrat', 'Marjana', 'Lab', 'Jahan', 'Data', 'Big']"
      ]
     },
     "execution_count": 17,
     "metadata": {},
     "output_type": "execute_result"
    }
   ],
   "source": [
    "###Reverse_sort\n",
    "a_list.sort(reverse=True)\n",
    "a_list"
   ]
  },
  {
   "cell_type": "code",
   "execution_count": 20,
   "id": "c779e016",
   "metadata": {},
   "outputs": [
    {
     "name": "stdout",
     "output_type": "stream",
     "text": [
      "13\n"
     ]
    }
   ],
   "source": [
    "###Lambda Function\n",
    "\n",
    "x=lambda a:a+10\n",
    "print(x(3))"
   ]
  },
  {
   "cell_type": "code",
   "execution_count": 25,
   "id": "6cbcbc08",
   "metadata": {},
   "outputs": [
    {
     "name": "stdout",
     "output_type": "stream",
     "text": [
      "150\n"
     ]
    }
   ],
   "source": [
    "y=lambda a,b,c,d,e:(a+b+c+d+e)*10\n",
    "print(y(1,2,3,4,5))"
   ]
  },
  {
   "cell_type": "code",
   "execution_count": 6,
   "id": "e347b1df",
   "metadata": {},
   "outputs": [
    {
     "data": {
      "text/plain": [
       "55"
      ]
     },
     "execution_count": 6,
     "metadata": {},
     "output_type": "execute_result"
    }
   ],
   "source": [
    "a = lambda x : sum(range(1, x+1))\n",
    "a(10)"
   ]
  },
  {
   "cell_type": "code",
   "execution_count": null,
   "id": "678aed0c",
   "metadata": {},
   "outputs": [],
   "source": []
  }
 ],
 "metadata": {
  "kernelspec": {
   "display_name": "Python 3 (ipykernel)",
   "language": "python",
   "name": "python3"
  },
  "language_info": {
   "codemirror_mode": {
    "name": "ipython",
    "version": 3
   },
   "file_extension": ".py",
   "mimetype": "text/x-python",
   "name": "python",
   "nbconvert_exporter": "python",
   "pygments_lexer": "ipython3",
   "version": "3.9.7"
  }
 },
 "nbformat": 4,
 "nbformat_minor": 5
}
